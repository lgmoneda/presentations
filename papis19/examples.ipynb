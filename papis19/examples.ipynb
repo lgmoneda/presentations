{
 "cells": [
  {
   "cell_type": "markdown",
   "metadata": {},
   "source": [
    "# Validating models in the real world"
   ]
  },
  {
   "cell_type": "code",
   "execution_count": 1,
   "metadata": {},
   "outputs": [
    {
     "name": "stderr",
     "output_type": "stream",
     "text": [
      "/Users/lgmoneda/miniconda2/envs/fia/lib/python3.6/site-packages/lightgbm/__init__.py:46: UserWarning: Starting from version 2.2.1, the library file in distribution wheels for macOS is built by the Apple Clang (Xcode_8.3.3) compiler.\n",
      "This means that in case of installing LightGBM from PyPI via the ``pip install lightgbm`` command, you don't need to install the gcc compiler anymore.\n",
      "Instead of that, you need to install the OpenMP library, which is required for running LightGBM on the system with the Apple Clang compiler.\n",
      "You can install the OpenMP library by the following command: ``brew install libomp``.\n",
      "  \"You can install the OpenMP library by the following command: ``brew install libomp``.\", UserWarning)\n"
     ]
    }
   ],
   "source": [
    "import pandas as pd\n",
    "import matplotlib.pyplot as plt\n",
    "import numpy as np\n",
    "import warnings\n",
    "\n",
    "from datetime import datetime\n",
    "from sklearn.model_selection import train_test_split, cross_val_score, GridSearchCV\n",
    "from sklearn.metrics import roc_auc_score\n",
    "from lightgbm import LGBMClassifier\n",
    "\n",
    "warnings.filterwarnings('ignore')"
   ]
  },
  {
   "cell_type": "code",
   "execution_count": 2,
   "metadata": {},
   "outputs": [],
   "source": [
    "TARGET = \"is_listened\""
   ]
  },
  {
   "cell_type": "markdown",
   "metadata": {},
   "source": [
    "### Prepare the dataset"
   ]
  },
  {
   "cell_type": "code",
   "execution_count": 3,
   "metadata": {},
   "outputs": [],
   "source": [
    "data = pd.read_csv(\"train.csv\")\n",
    "data = data.sample(frac=0.5)"
   ]
  },
  {
   "cell_type": "code",
   "execution_count": 4,
   "metadata": {},
   "outputs": [],
   "source": [
    "data[\"ts_listen\"] = data[\"ts_listen\"].apply(lambda x: datetime.utcfromtimestamp(x).strftime('%Y-%m-%d %H:%M:%S'))"
   ]
  },
  {
   "cell_type": "code",
   "execution_count": 5,
   "metadata": {},
   "outputs": [],
   "source": [
    "production_data = data[data[\"ts_listen\"] >= \"2016-11-25 00:00:00\"]\n",
    "data = data[data[\"ts_listen\"] < \"2016-11-25 00:00:00\"]\n",
    "data = data[data[\"ts_listen\"] > \"2016-09-01 00:00:00\"]"
   ]
  },
  {
   "cell_type": "code",
   "execution_count": 6,
   "metadata": {},
   "outputs": [
    {
     "name": "stdout",
     "output_type": "stream",
     "text": [
      "(3205723, 15)\n",
      "(573011, 15)\n"
     ]
    }
   ],
   "source": [
    "print(data.shape)\n",
    "print(production_data.shape)"
   ]
  },
  {
   "cell_type": "code",
   "execution_count": 7,
   "metadata": {},
   "outputs": [
    {
     "name": "stdout",
     "output_type": "stream",
     "text": [
      "2016-11-25 00:00:00\n",
      "2016-12-01 23:44:05\n"
     ]
    }
   ],
   "source": [
    "print(production_data[\"ts_listen\"].min())\n",
    "print(production_data[\"ts_listen\"].max())"
   ]
  },
  {
   "cell_type": "markdown",
   "metadata": {},
   "source": [
    "### Random split"
   ]
  },
  {
   "cell_type": "code",
   "execution_count": 8,
   "metadata": {},
   "outputs": [],
   "source": [
    "features = ['genre_id', \n",
    "            'media_id', \n",
    "            'album_id', \n",
    "            'context_type',\n",
    "            'release_date', \n",
    "            'platform_name', \n",
    "            'platform_family', \n",
    "            'media_duration',\n",
    "            'listen_type', \n",
    "            'user_gender', \n",
    "            'user_id', \n",
    "            'artist_id', \n",
    "            'user_age']\n",
    "\n",
    "param_dict = {\"max_depth\": [4, 8, 12]}"
   ]
  },
  {
   "cell_type": "code",
   "execution_count": 9,
   "metadata": {},
   "outputs": [],
   "source": [
    "X_train, X_test, y_train, y_test = train_test_split(data[features], \n",
    "                                                    data[TARGET], \n",
    "                                                    test_size=0.3, \n",
    "                                                    random_state=42)\n",
    "\n",
    "X_val, X_test, y_val, y_test = train_test_split(X_test, \n",
    "                                                y_test,\n",
    "                                                test_size=0.5, \n",
    "                                                random_state=42)"
   ]
  },
  {
   "cell_type": "code",
   "execution_count": 10,
   "metadata": {},
   "outputs": [
    {
     "name": "stdout",
     "output_type": "stream",
     "text": [
      "[10]\ttraining's binary_logloss: 0.60859\ttraining's auc: 0.65725\tvalid_1's binary_logloss: 0.608847\tvalid_1's auc: 0.657452\n",
      "[20]\ttraining's binary_logloss: 0.601873\ttraining's auc: 0.657291\tvalid_1's binary_logloss: 0.602119\tvalid_1's auc: 0.657569\n",
      "[30]\ttraining's binary_logloss: 0.597901\ttraining's auc: 0.659331\tvalid_1's binary_logloss: 0.598136\tvalid_1's auc: 0.659788\n",
      "[40]\ttraining's binary_logloss: 0.595489\ttraining's auc: 0.660118\tvalid_1's binary_logloss: 0.595703\tvalid_1's auc: 0.660683\n",
      "[50]\ttraining's binary_logloss: 0.593948\ttraining's auc: 0.660452\tvalid_1's binary_logloss: 0.594147\tvalid_1's auc: 0.661044\n"
     ]
    }
   ],
   "source": [
    "model_params = {\"max_depth\": 8,\n",
    "                \"scale_pos_weight\": y_train.mean(),\n",
    "                \"num_leaves\": 10, \n",
    "                \"colsample_bytree\": 0.8,\n",
    "                \"reg_lambda\": 1,\n",
    "                \"reg_alpha\": 1, \n",
    "                \"min_child_weight\": 0.9,\n",
    "                \"min_split_gain\": 2, \n",
    "                \"subsample\": 0.8,\n",
    "                \"learning_rate\": 0.02,\n",
    "                \"n_estimators\": 50,\n",
    "                \"is_unbalanced\": False, \n",
    "                \"nthread\": -1,\n",
    "                \"silent\": -1,\n",
    "                \"verose\": -1}\n",
    "\n",
    "model = LGBMClassifier(**model_params)\n",
    "\n",
    "model.fit(X_train, y_train, eval_set=[(X_train, y_train), (X_val, y_val)], \n",
    "          eval_metric= 'auc', verbose=10)\n",
    "\n",
    "y_pred_val = model.predict_proba(X_val, num_iteration=model.best_iteration_)[:, 1]\n",
    "y_pred = model.predict_proba(X_test, num_iteration=model.best_iteration_)[:, 1]\n",
    "test_auc = roc_auc_score(y_test, y_pred)\n",
    "val_auc = roc_auc_score(y_val, y_pred_val)"
   ]
  },
  {
   "cell_type": "code",
   "execution_count": 11,
   "metadata": {},
   "outputs": [
    {
     "name": "stdout",
     "output_type": "stream",
     "text": [
      "AUC on validation: 0.6610\n",
      "AUC on test: 0.6605\n"
     ]
    }
   ],
   "source": [
    "print(\"AUC on validation: {:.4f}\".format(val_auc))\n",
    "print(\"AUC on test: {:.4f}\".format(test_auc))"
   ]
  },
  {
   "cell_type": "code",
   "execution_count": 12,
   "metadata": {},
   "outputs": [
    {
     "name": "stdout",
     "output_type": "stream",
     "text": [
      "AUC on prod: 0.6567\n"
     ]
    }
   ],
   "source": [
    "y_pred_prod = model.predict_proba(production_data[features], num_iteration=model.best_iteration_)[:, 1]\n",
    "prod_auc = roc_auc_score(production_data[TARGET], y_pred_prod)\n",
    "\n",
    "print(\"AUC on prod: {:.4f}\".format(prod_auc))"
   ]
  },
  {
   "cell_type": "markdown",
   "metadata": {},
   "source": [
    "### K-fold"
   ]
  },
  {
   "cell_type": "code",
   "execution_count": 13,
   "metadata": {},
   "outputs": [
    {
     "data": {
      "text/plain": [
       "GridSearchCV(cv=5, error_score='raise-deprecating',\n",
       "       estimator=LGBMClassifier(boosting_type='gbdt', class_weight=None, colsample_bytree=0.8,\n",
       "        importance_type='split', is_unbalanced=False, learning_rate=0.02,\n",
       "        max_depth=8, min_child_samples=20, min_child_weight=0.9,\n",
       "        min_split_gain=2, n_estimators=50, n_jobs=-1, nthread=-1,\n",
       "       ...69, silent=-1,\n",
       "        subsample=0.8, subsample_for_bin=200000, subsample_freq=0,\n",
       "        verose=-1),\n",
       "       fit_params=None, iid='warn', n_jobs=-1,\n",
       "       param_grid={'max_depth': [4, 6, 8, 10, 12]},\n",
       "       pre_dispatch='2*n_jobs', refit=True, return_train_score='warn',\n",
       "       scoring=None, verbose=0)"
      ]
     },
     "execution_count": 13,
     "metadata": {},
     "output_type": "execute_result"
    }
   ],
   "source": [
    "X_train, X_test, y_train, y_test = train_test_split(data[features], \n",
    "                                                    data[TARGET], \n",
    "                                                    test_size=0.3, \n",
    "                                                    random_state=42)\n",
    "\n",
    "\n",
    "param_dict = {\"max_depth\": [4, 6, 8, 10, 12]}\n",
    "\n",
    "grid = GridSearchCV(LGBMClassifier(**model_params), param_dict, cv=5, n_jobs=-1)\n",
    "grid.fit(X_train, y_train)"
   ]
  },
  {
   "cell_type": "code",
   "execution_count": 14,
   "metadata": {},
   "outputs": [
    {
     "name": "stdout",
     "output_type": "stream",
     "text": [
      "AUC on validation: 0.6610\n",
      "AUC on test: 0.6608\n",
      "AUC on prod: 0.6567\n"
     ]
    }
   ],
   "source": [
    "model = grid.best_estimator_\n",
    "y_pred_val = model.predict_proba(X_val, num_iteration=model.best_iteration_)[:, 1]\n",
    "y_pred = model.predict_proba(X_test, num_iteration=model.best_iteration_)[:, 1]\n",
    "test_auc = roc_auc_score(y_test, y_pred)\n",
    "val_auc = roc_auc_score(y_val, y_pred_val)\n",
    "\n",
    "print(\"AUC on validation: {:.4f}\".format(val_auc))\n",
    "print(\"AUC on test: {:.4f}\".format(test_auc))\n",
    "\n",
    "y_pred_prod = model.predict_proba(production_data[features], num_iteration=model.best_iteration_)[:, 1]\n",
    "prod_auc = roc_auc_score(production_data[TARGET], y_pred_prod)\n",
    "\n",
    "print(\"AUC on prod: {:.4f}\".format(prod_auc))"
   ]
  },
  {
   "cell_type": "markdown",
   "metadata": {},
   "source": [
    "### Nested K-fold"
   ]
  },
  {
   "cell_type": "code",
   "execution_count": 15,
   "metadata": {},
   "outputs": [],
   "source": [
    "grid = GridSearchCV(LGBMClassifier(**model_params), param_dict, cv=5)\n",
    "nested_scores = cross_val_score(grid, data[features], data[TARGET], cv=5)"
   ]
  },
  {
   "cell_type": "code",
   "execution_count": 16,
   "metadata": {},
   "outputs": [
    {
     "data": {
      "text/plain": [
       "array([0.69521403, 0.69530917, 0.69460107, 0.69491409, 0.69525879])"
      ]
     },
     "execution_count": 16,
     "metadata": {},
     "output_type": "execute_result"
    }
   ],
   "source": [
    "nested_scores"
   ]
  },
  {
   "cell_type": "markdown",
   "metadata": {},
   "source": [
    "### Time split"
   ]
  },
  {
   "cell_type": "code",
   "execution_count": 17,
   "metadata": {},
   "outputs": [
    {
     "name": "stdout",
     "output_type": "stream",
     "text": [
      "2016-09-01 06:03:29\n",
      "2016-11-24 23:59:58\n"
     ]
    }
   ],
   "source": [
    "print(data[\"ts_listen\"].min())\n",
    "print(data[\"ts_listen\"].max())"
   ]
  },
  {
   "cell_type": "code",
   "execution_count": 18,
   "metadata": {},
   "outputs": [],
   "source": [
    "val_split = \"2016-11-08 00:00:00\"\n",
    "test_split = \"2016-11-18 00:00:00\"\n",
    "\n",
    "train_data = (data[\"ts_listen\"] <= val_split) \n",
    "X_train = data[train_data][features]\n",
    "y_train = data[train_data][TARGET]\n",
    "\n",
    "val_data = (data[\"ts_listen\"] > val_split) & (data[\"ts_listen\"] <= test_split)\n",
    "X_val = data[val_data][features]\n",
    "y_val = data[val_data][TARGET]\n",
    "\n",
    "test_data = (data[\"ts_listen\"] > test_split) \n",
    "X_test = data[test_data][features]\n",
    "y_test = data[test_data][TARGET]"
   ]
  },
  {
   "cell_type": "code",
   "execution_count": 19,
   "metadata": {},
   "outputs": [
    {
     "name": "stdout",
     "output_type": "stream",
     "text": [
      "(1104297, 13)\n",
      "(1317201, 13)\n",
      "(784225, 13)\n",
      "(573011, 15)\n"
     ]
    }
   ],
   "source": [
    "print(X_train.shape)\n",
    "print(X_val.shape)\n",
    "print(X_test.shape)\n",
    "print(production_data.shape)"
   ]
  },
  {
   "cell_type": "code",
   "execution_count": 20,
   "metadata": {},
   "outputs": [
    {
     "name": "stdout",
     "output_type": "stream",
     "text": [
      "[10]\ttraining's binary_logloss: 0.6088\ttraining's auc: 0.65648\tvalid_1's binary_logloss: 0.605954\tvalid_1's auc: 0.655444\n",
      "[20]\ttraining's binary_logloss: 0.602392\ttraining's auc: 0.656608\tvalid_1's binary_logloss: 0.599685\tvalid_1's auc: 0.655544\n",
      "[30]\ttraining's binary_logloss: 0.598557\ttraining's auc: 0.65679\tvalid_1's binary_logloss: 0.596018\tvalid_1's auc: 0.655271\n",
      "[40]\ttraining's binary_logloss: 0.596237\ttraining's auc: 0.657889\tvalid_1's binary_logloss: 0.593856\tvalid_1's auc: 0.656544\n",
      "[50]\ttraining's binary_logloss: 0.594741\ttraining's auc: 0.658462\tvalid_1's binary_logloss: 0.592512\tvalid_1's auc: 0.657173\n"
     ]
    }
   ],
   "source": [
    "model = LGBMClassifier(**model_params)\n",
    "\n",
    "model.fit(X_train, y_train, eval_set=[(X_train, y_train), (X_val, y_val)], \n",
    "          eval_metric= 'auc', verbose=10)\n",
    "\n",
    "y_pred_val = model.predict_proba(X_val, num_iteration=model.best_iteration_)[:, 1]\n",
    "y_pred = model.predict_proba(X_test, num_iteration=model.best_iteration_)[:, 1]\n",
    "test_auc = roc_auc_score(y_test, y_pred)\n",
    "val_auc = roc_auc_score(y_val, y_pred_val)"
   ]
  },
  {
   "cell_type": "code",
   "execution_count": 21,
   "metadata": {},
   "outputs": [
    {
     "name": "stdout",
     "output_type": "stream",
     "text": [
      "AUC on validation: 0.6572\n",
      "AUC on test: 0.6633\n"
     ]
    }
   ],
   "source": [
    "print(\"AUC on validation: {:.4f}\".format(val_auc))\n",
    "print(\"AUC on test: {:.4f}\".format(test_auc))"
   ]
  },
  {
   "cell_type": "markdown",
   "metadata": {},
   "source": [
    "### Bootstrap time split"
   ]
  },
  {
   "cell_type": "code",
   "execution_count": 22,
   "metadata": {},
   "outputs": [
    {
     "name": "stdout",
     "output_type": "stream",
     "text": [
      "AUC on validation: 0.6574\n",
      "AUC on test: 0.6633\n",
      "AUC on prod: 0.6567\n"
     ]
    }
   ],
   "source": [
    "n_rounds = 5\n",
    "\n",
    "val_aucs = []\n",
    "test_aucs = []\n",
    "prod_aucs = []\n",
    "for i in range(n_rounds):\n",
    "    sample_data = data.sample(frac=0.8)\n",
    "    \n",
    "    X_train = sample_data[train_data][features]\n",
    "    y_train = sample_data[train_data][TARGET]\n",
    "\n",
    "    X_val = sample_data[val_data][features]\n",
    "    y_val = sample_data[val_data][TARGET]\n",
    "\n",
    "    X_test = sample_data[test_data][features]\n",
    "    y_test = sample_data[test_data][TARGET]\n",
    "    \n",
    "    model = LGBMClassifier(**model_params)\n",
    "\n",
    "    model.fit(X_train, y_train, eval_set=[(X_train, y_train), (X_val, y_val)], \n",
    "          eval_metric= 'auc', verbose=-1)\n",
    "\n",
    "    y_pred_val = model.predict_proba(X_val, num_iteration=model.best_iteration_)[:, 1]\n",
    "    y_pred = model.predict_proba(X_test, num_iteration=model.best_iteration_)[:, 1]\n",
    "    test_aucs.append(roc_auc_score(y_test, y_pred))\n",
    "    val_aucs.append(roc_auc_score(y_val, y_pred_val))\n",
    "    y_pred_prod = model.predict_proba(production_data[features], num_iteration=model.best_iteration_)[:, 1]\n",
    "    prod_aucs.append(roc_auc_score(production_data[TARGET], y_pred_prod))\n",
    "\n",
    "    \n",
    "\n",
    "print(\"AUC on validation: {:.4f}\".format(np.mean(val_aucs)))\n",
    "print(\"AUC on test: {:.4f}\".format(np.mean(test_auc)))\n",
    "print(\"AUC on prod: {:.4f}\".format(np.mean(prod_auc)))"
   ]
  }
 ],
 "metadata": {
  "kernelspec": {
   "display_name": "fia",
   "language": "python",
   "name": "python3"
  },
  "language_info": {
   "codemirror_mode": {
    "name": "ipython",
    "version": 3
   },
   "file_extension": ".py",
   "mimetype": "text/x-python",
   "name": "python",
   "nbconvert_exporter": "python",
   "pygments_lexer": "ipython3",
   "version": "3.6.0"
  }
 },
 "nbformat": 4,
 "nbformat_minor": 2
}
